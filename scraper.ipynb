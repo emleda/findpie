{
  "nbformat": 4,
  "nbformat_minor": 0,
  "metadata": {
    "colab": {
      "provenance": []
    },
    "kernelspec": {
      "name": "python3",
      "display_name": "Python 3"
    },
    "language_info": {
      "name": "python"
    }
  },
  "cells": [
    {
      "cell_type": "code",
      "execution_count": null,
      "metadata": {
        "id": "rsO5mQk4JJhF"
      },
      "outputs": [],
      "source": [
        "import requests\n",
        "import bs4\n",
        "import pandas as pd\n",
        "from bs4 import BeautifulSoup"
      ]
    },
    {
      "cell_type": "code",
      "source": [
        "headers = {\n",
        "    'User-Agent': 'Mozilla/5.0 (Windows NT 10.0; Win64; x64) AppleWebKit/537.36 (KHTML, like Gecko) Chrome/114.0.0.0 Safari/537.36'\n",
        "}\n",
        "source = requests.get(\"https://greataussiepiecomp.com.au/results\", headers=headers).text\n",
        "\n",
        "content = BeautifulSoup(source, 'html5lib')\n",
        "#content.body.div.main.div.div.div.div.div.div.div\n",
        "major = content.find_all(class_='col medium-4 small-12 large-4')[1:6]\n",
        "major[0]"
      ],
      "metadata": {
        "colab": {
          "base_uri": "https://localhost:8080/"
        },
        "id": "2979A-xlJO1O",
        "outputId": "8c69517a-8753-488a-d65e-5e7b063f8701"
      },
      "execution_count": null,
      "outputs": [
        {
          "output_type": "execute_result",
          "data": {
            "text/plain": [
              "<div class=\"col medium-4 small-12 large-4\" id=\"col-1513987931\">\n",
              "\t\t\t\t<div class=\"col-inner\">\n",
              "\t\t\t\n",
              "\t\t\t\n",
              "<h2 style=\"text-align: center;\">Plain Meat Pie Title</h2>\n",
              "<p style=\"text-align: center;\"><strong>Chunky Pie</strong><br/><a href=\"https://www.facebook.com/Buddybakerycafe/\" rel=\"noopener\" target=\"_blank\">Buddy Bakery</a><br/>Melton, VIC</p>\n",
              "<p style=\"text-align: center;\"><strong>Runner Up</strong><br/><strong>Chunky Pie</strong><br/><a href=\"https://www.facebook.com/FourSeasonsPatisserieBakery/\" rel=\"noopener\" target=\"_blank\">Four Seasons Patisserie &amp; Bakery</a><br/>High Wycombe, WA</p>\n",
              "<hr/>\n",
              "<p style=\"text-align: center;\"><strong>3rd:</strong> <a href=\"https://www.facebook.com/mingsbakery/\" rel=\"noopener\" target=\"_blank\">Ming’s Bakery</a>, <br/>Woodvale, WA – Chunky <br/><strong>4th:</strong> <a href=\"https://piehaus.com.au/\" rel=\"noopener\" target=\"_blank\">Pie Haus</a>, <br/>Beaumaris, VIC – Chunky<br/><strong>5th:</strong> <a href=\"https://www.facebook.com/mclarenvalebakerycafe/\" rel=\"noopener\" target=\"_blank\">McLaren Vale Bakery Café</a>, <br/>McLaren Vale, SA – Mince</p>\n",
              "\t\t</div>\n",
              "\t\t\t\t\t</div>"
            ]
          },
          "metadata": {},
          "execution_count": 3
        }
      ]
    },
    {
      "cell_type": "code",
      "source": [
        "major_dict = {}\n",
        "prize = major[0].h2.text\n",
        "major_dict[prize] = {}\n",
        "\n",
        "major_dict[prize]['Winner'] = {}\n",
        "major_dict[prize]['Winner']['Pie Name'] = major[0].p.strong.text\n",
        "major_dict[prize]['Winner']['Bakery Name'] = major[0].p.a.text\n",
        "major_dict[prize]['Winner']['Link'] = major[0].p.a['href']\n",
        "major_dict[prize]['Winner']['Location'] = major[0].p.contents[-1]\n",
        "\n",
        "print(major_dict)"
      ],
      "metadata": {
        "colab": {
          "base_uri": "https://localhost:8080/"
        },
        "id": "mhfRwxpuJUVP",
        "outputId": "ed681a82-8d92-4e45-e491-30e634730960"
      },
      "execution_count": null,
      "outputs": [
        {
          "output_type": "stream",
          "name": "stdout",
          "text": [
            "{'Plain Meat Pie Title': {'Winner': {'Pie Name': 'Chunky Pie', 'Bakery Name': 'Buddy Bakery', 'Link': 'https://www.facebook.com/Buddybakerycafe/', 'Location': 'Melton, VIC'}}}\n"
          ]
        }
      ]
    },
    {
      "cell_type": "code",
      "source": [
        "info = major[0].find_all('p')\n",
        "info[0]"
      ],
      "metadata": {
        "colab": {
          "base_uri": "https://localhost:8080/"
        },
        "id": "2F_u1ylrJyp4",
        "outputId": "e229c0c4-ce10-46fb-da1e-464561666151"
      },
      "execution_count": null,
      "outputs": [
        {
          "output_type": "execute_result",
          "data": {
            "text/plain": [
              "<p style=\"text-align: center;\"><strong>Chunky Pie</strong><br/><a href=\"https://www.facebook.com/Buddybakerycafe/\" rel=\"noopener\" target=\"_blank\">Buddy Bakery</a><br/>Melton, VIC</p>"
            ]
          },
          "metadata": {},
          "execution_count": 22
        }
      ]
    },
    {
      "cell_type": "code",
      "source": [
        "#for each category:\n",
        "  #for each entry:\n",
        "    #prize = this\n",
        "    #major_dict[prize][]"
      ],
      "metadata": {
        "id": "nG9289A4IQH2",
        "colab": {
          "base_uri": "https://localhost:8080/"
        },
        "outputId": "20a48afb-888c-4c25-e61b-6b16c0dfd020"
      },
      "execution_count": null,
      "outputs": [
        {
          "output_type": "execute_result",
          "data": {
            "text/plain": [
              "range(1, 5)"
            ]
          },
          "metadata": {},
          "execution_count": 26
        }
      ]
    },
    {
      "cell_type": "code",
      "source": [],
      "metadata": {
        "id": "6z5td7IB4Lyz"
      },
      "execution_count": null,
      "outputs": []
    }
  ]
}